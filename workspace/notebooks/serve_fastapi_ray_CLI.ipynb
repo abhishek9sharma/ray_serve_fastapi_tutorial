{
 "cells": [
  {
   "cell_type": "markdown",
   "id": "c7f1ac4a-714a-4083-813c-951e7b5a3b95",
   "metadata": {},
   "source": [
    "## Steps to deploying a FastAPI app Using Ray CLI \n",
    "\n",
    "- Below comamnds should be run frome the cloned folder i.e. __ray_serve_fastapi_tutorial__\n",
    "\n",
    "- Change Directory to workspace ( if not using docker)\n",
    "    -  ``` cd ray_serve_tutorial/workspace/ ```\n",
    "\n",
    "-  Install Environment\n",
    "    \n",
    "    ```\n",
    "    chmod +x src/install_env.sh\n",
    "    bash src/install_env.sh\n",
    "    ```\n",
    "\n",
    "-  Activate the environment\n",
    "\n",
    "    ```\n",
    "    source ray_env/bin/activate\n",
    "    ```\n",
    "\n",
    "-  **Spin Up Ray Cluster**\n",
    "    \n",
    "    - ``` ray start --head --dashboard-host 0.0.0.0  -y ```\n",
    "    - Ray cluster should be visible at [http://localhost:8265/](http://localhost:8265)\n",
    "    - Status can also be verified using ``` ray status  ```\n",
    "\n",
    "-  **Serving App**\n",
    "\n",
    "    - __Serve Ray App From CodeLocation__\n",
    "        - run ```serve start --http-host 0.0.0.0 --http-port 8001```\n",
    "        - run ``` serve run src.ray_fastapi:rayappadvanced --non-blocking ```\n",
    "        - The app should be visible at [http://localhost:8001/docs](http://localhost:8001/docs)\n",
    "    \n",
    "\n",
    "    - __Serve Ray App From Config file__\n",
    "        - ```serve   shutdown -y``` \n",
    "        -  ```serve build src.ray_fastapi:rayappadvanced -o serve_config_app.yaml  ```\n",
    "        -  ```serve deploy serve_config_app.yaml  ```\n",
    "        - The app should be visible at [http://localhost:8001/docs](http://localhost:8001/docs)\n",
    "    \n",
    "    - __Auto Scaling Config__\n",
    " \n",
    "        - YAML\n",
    "\n",
    "     \n",
    "              max_ongoing_requests: 5\n",
    "              autoscaling_config:\n",
    "                target_ongoing_requests: 2\n",
    "                min_replicas: 2\n",
    "                max_replicas: 5\n",
    "        \n",
    "        - The app should be visible at [http://localhost:8001/docs](http://localhost:8001/docs)\n",
    "    \n",
    "        "
   ]
  },
  {
   "cell_type": "code",
   "execution_count": null,
   "id": "df1701ae-35fe-4b68-8b08-4cc54aa1210f",
   "metadata": {},
   "outputs": [],
   "source": []
  }
 ],
 "metadata": {
  "kernelspec": {
   "display_name": "Python 3 (ipykernel)",
   "language": "python",
   "name": "python3"
  },
  "language_info": {
   "codemirror_mode": {
    "name": "ipython",
    "version": 3
   },
   "file_extension": ".py",
   "mimetype": "text/x-python",
   "name": "python",
   "nbconvert_exporter": "python",
   "pygments_lexer": "ipython3",
   "version": "3.12.10"
  }
 },
 "nbformat": 4,
 "nbformat_minor": 5
}
