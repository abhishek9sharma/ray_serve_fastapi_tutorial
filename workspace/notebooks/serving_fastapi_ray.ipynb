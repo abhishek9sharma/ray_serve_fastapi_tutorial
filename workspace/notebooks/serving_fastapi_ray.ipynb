{
 "cells": [
  {
   "cell_type": "markdown",
   "id": "7e1e4008-8af0-487c-b71a-c5fd400618e0",
   "metadata": {
    "jp-MarkdownHeadingCollapsed": true
   },
   "source": [
    "# 1. Set up environment"
   ]
  },
  {
   "cell_type": "markdown",
   "id": "65a30a29-febb-49ea-b024-e9d75ff50de8",
   "metadata": {},
   "source": [
    "## 1.1 Install a Virtual env with all dependencies"
   ]
  },
  {
   "cell_type": "markdown",
   "id": "92b45177-b6d8-4103-91ff-82bf44b5e824",
   "metadata": {},
   "source": [
    "### 1.1.1 UV Based Environment Creation\n",
    "- Running below cell  requires uv to be installed on your machine. \n",
    "- You can install from https://docs.astral.sh/uv/pip/environments/\n",
    "- If you dont want UV please use pip based install"
   ]
  },
  {
   "cell_type": "code",
   "execution_count": null,
   "id": "16f8d064-c3fa-4696-9dcd-c04d781bdc23",
   "metadata": {},
   "outputs": [
    {
     "name": "stdout",
     "output_type": "stream",
     "text": [
      "Collecting uv\n",
      "  Downloading uv-0.6.14-py3-none-manylinux_2_28_aarch64.whl.metadata (11 kB)\n",
      "Downloading uv-0.6.14-py3-none-manylinux_2_28_aarch64.whl (15.8 MB)\n",
      "\u001b[2K   \u001b[90m━━━━━━━━━━━━━━━━━━━━━━━━━━━━━━━━━━━━━━━━\u001b[0m \u001b[32m15.8/15.8 MB\u001b[0m \u001b[31m19.0 MB/s\u001b[0m eta \u001b[36m0:00:00\u001b[0m00:01\u001b[0m00:01\u001b[0m\n",
      "\u001b[?25hInstalling collected packages: uv\n",
      "Successfully installed uv-0.6.14\n"
     ]
    },
    {
     "name": "stderr",
     "output_type": "stream",
     "text": [
      "\u001b[33mWARNING: Running pip as the 'root' user can result in broken permissions and conflicting behaviour with the system package manager, possibly rendering your system unusable. It is recommended to use a virtual environment instead: https://pip.pypa.io/warnings/venv. Use the --root-user-action option if you know what you are doing and want to suppress this warning.\u001b[0m\u001b[33m\n",
      "\u001b[0mUsing CPython 3.12.10 interpreter at: \u001b[36m/usr/local/bin/python\u001b[39m\n",
      "Creating virtual environment at: \u001b[36mray_jup_env\u001b[39m\n",
      "\u001b[2mUsing Python 3.12.10 environment at: ray_jup_env\u001b[0m\n",
      "\u001b[2mResolved \u001b[1m61 packages\u001b[0m \u001b[2min 519ms\u001b[0m\u001b[0m\n"
     ]
    }
   ],
   "source": [
    "%%bash\n",
    "python -m pip install uv\n",
    "uv venv ray_jup_env\n",
    "source ray_jup_env/bin/activate\n",
    "\n",
    "uv pip install ray[serve] #this is how you install ray_serve python package\n",
    "uv pip install ipykernel nbconvert ipywidgets #these are required to attach created environment in notebook\n",
    "python -m ipykernel install --user --name=ray_jup_env\n"
   ]
  },
  {
   "cell_type": "markdown",
   "id": "a1c0f9ff-8b56-46f2-94dc-3edf255fb5cf",
   "metadata": {},
   "source": [
    "### 1.1.2 PIP Based Environment Creation\n",
    " - Uncomment below and run if you do want to not use above uv base install"
   ]
  },
  {
   "cell_type": "code",
   "execution_count": null,
   "id": "344f947a-7fe6-4986-ade3-63290946b752",
   "metadata": {},
   "outputs": [],
   "source": [
    "# %%bash\n",
    "# python -m pip install --user virtualenv\n",
    "# python -m virtualenv ray_jup_env\n",
    "# source ray_jup_env/bin/activate\n",
    "# python -m pip install ray[serve] #this is how you install ray_serve python package\n",
    "# python -m pip install nest-asyncio #this is required to run a FastAPI app in non-blocking mode from a jupyter notebook\n",
    "# python -m pip install ipykernel nbconvert ipywidgets #these are required to attach created environment in notebook\n",
    "# python -m ipykernel install --user --name=ray_jup_env"
   ]
  },
  {
   "cell_type": "markdown",
   "id": "4c8052ff-78dc-4292-a794-da78d27b9c22",
   "metadata": {
    "jp-MarkdownHeadingCollapsed": true
   },
   "source": [
    "## 1.2 Activate the Kernel\n",
    "- refresh the browser\n",
    "- activate the _ray_jup_env_ kernel"
   ]
  },
  {
   "cell_type": "markdown",
   "id": "648a8e88-56d0-4321-91d8-bed483c49771",
   "metadata": {},
   "source": [
    "# 2. Simple FastAPI Endpoint"
   ]
  },
  {
   "cell_type": "markdown",
   "id": "d8336b2a-48de-46d9-9df7-193482a1be0e",
   "metadata": {},
   "source": [
    "## 2.1 Create a simple FastAPI endpoint"
   ]
  },
  {
   "cell_type": "code",
   "execution_count": 1,
   "id": "27489bdd-5936-4694-8dd9-76e7587f6f33",
   "metadata": {},
   "outputs": [],
   "source": [
    "from fastapi import FastAPI\n",
    "import os\n",
    "from datetime import datetime\n",
    "\n",
    "\n",
    "app = FastAPI()\n",
    "\n",
    "\n",
    "@app.get(\"/hello\")\n",
    "def hello():\n",
    "    \n",
    "    formatted_timestamp = datetime.now().strftime(\"%Y-%m-%d %H:%M:%S\")\n",
    "    print(formatted_timestamp)\n",
    "    return {\"message\": \"Hello, World at :: \" + formatted_timestamp }"
   ]
  },
  {
   "cell_type": "markdown",
   "id": "6ede57db-5959-4ee1-9b70-02f74951d2f0",
   "metadata": {},
   "source": [
    "## 2.2 Serve the Fast API end point\n",
    "  - I am using an asyncio loop to serve the app in an async way from notebook\n",
    "  - if you are running this inside a container, you should now see at http://localhost:8001/docs"
   ]
  },
  {
   "cell_type": "code",
   "execution_count": 2,
   "id": "7fa80f74-0e2c-4d8e-ac06-67a9de46bd06",
   "metadata": {},
   "outputs": [
    {
     "name": "stdout",
     "output_type": "stream",
     "text": [
      "If you are running this inside a container, you should now see at http://localhost:8002/hello\n"
     ]
    },
    {
     "name": "stderr",
     "output_type": "stream",
     "text": [
      "INFO:     Started server process [323]\n",
      "INFO:     Waiting for application startup.\n",
      "INFO:     Application startup complete.\n",
      "INFO:     Uvicorn running on http://0.0.0.0:8002 (Press CTRL+C to quit)\n"
     ]
    },
    {
     "name": "stdout",
     "output_type": "stream",
     "text": [
      "2025-04-10 05:32:41\n",
      "INFO:     172.18.0.1:64032 - \"GET /hello HTTP/1.1\" 200 OK\n",
      "INFO:     172.18.0.1:64032 - \"GET /favicon.ico HTTP/1.1\" 404 Not Found\n"
     ]
    }
   ],
   "source": [
    "import asyncio\n",
    "import uvicorn\n",
    "\n",
    "if __name__ == \"__main__\":\n",
    "    config = uvicorn.Config(app, host=\"0.0.0.0\", port=8002)\n",
    "    server = uvicorn.Server(config)\n",
    "    loop = asyncio.get_running_loop()\n",
    "    loop.create_task(server.serve())\n",
    "\n",
    "print(\"If you are running this inside a container, you should now see at http://localhost:8002/hello\")"
   ]
  },
  {
   "cell_type": "markdown",
   "id": "182d3fde-4cba-4bc3-bea2-ab6f4a1c3783",
   "metadata": {},
   "source": []
  },
  {
   "cell_type": "markdown",
   "id": "37b2bee0-4d1e-400d-8f97-a094a8f5f24e",
   "metadata": {},
   "source": [
    "# 3. Deploy Fast API app Using Ray Serve"
   ]
  },
  {
   "cell_type": "markdown",
   "id": "06ccd17f-abe6-4304-8944-b614b290d47f",
   "metadata": {},
   "source": [
    "## 3.1 Start a Ray Cluster"
   ]
  },
  {
   "cell_type": "code",
   "execution_count": 3,
   "id": "8ac83d22-bbaf-4721-8720-4b4707d200be",
   "metadata": {},
   "outputs": [
    {
     "name": "stderr",
     "output_type": "stream",
     "text": [
      "2025-04-10 05:33:04,131\tWARNING services.py:2070 -- WARNING: The object store is using /tmp instead of /dev/shm because /dev/shm has only 67108864 bytes available. This will harm performance! You may be able to free up space by deleting files in /dev/shm. If you are inside a Docker container, you can increase /dev/shm size by passing '--shm-size=3.16gb' to 'docker run' (or add it to the run_options list in a Ray cluster config). Make sure to set this to more than 30% of available RAM.\n",
      "2025-04-10 05:33:05,286\tINFO worker.py:1843 -- Started a local Ray instance. View the dashboard at \u001b[1m\u001b[32mhttp://172.18.0.2:8265 \u001b[39m\u001b[22m\n"
     ]
    },
    {
     "data": {
      "application/vnd.jupyter.widget-view+json": {
       "model_id": "3a9f9d2b93f84945b2e1735952e94268",
       "version_major": 2,
       "version_minor": 0
      },
      "text/html": [
       "<div class=\"lm-Widget p-Widget lm-Panel p-Panel jp-Cell-outputWrapper\">\n",
       "    <div style=\"margin-left: 50px;display: flex;flex-direction: row;align-items: center\">\n",
       "        <div class=\"jp-RenderedHTMLCommon\" style=\"display: flex; flex-direction: row;\">\n",
       "  <svg viewBox=\"0 0 567 224\" fill=\"none\" xmlns=\"http://www.w3.org/2000/svg\" style=\"height: 3em;\">\n",
       "    <g clip-path=\"url(#clip0_4338_178347)\">\n",
       "        <path d=\"M341.29 165.561H355.29L330.13 129.051C345.63 123.991 354.21 112.051 354.21 94.2307C354.21 71.3707 338.72 58.1807 311.88 58.1807H271V165.561H283.27V131.661H311.8C314.25 131.661 316.71 131.501 319.01 131.351L341.25 165.561H341.29ZM283.29 119.851V70.0007H311.82C331.3 70.0007 342.34 78.2907 342.34 94.5507C342.34 111.271 331.34 119.861 311.82 119.861L283.29 119.851ZM451.4 138.411L463.4 165.561H476.74L428.74 58.1807H416L367.83 165.561H380.83L392.83 138.411H451.4ZM446.19 126.601H398L422 72.1407L446.24 126.601H446.19ZM526.11 128.741L566.91 58.1807H554.35L519.99 114.181L485.17 58.1807H472.44L514.01 129.181V165.541H526.13V128.741H526.11Z\" fill=\"var(--jp-ui-font-color0)\"/>\n",
       "        <path d=\"M82.35 104.44C84.0187 97.8827 87.8248 92.0678 93.1671 87.9146C98.5094 83.7614 105.083 81.5067 111.85 81.5067C118.617 81.5067 125.191 83.7614 130.533 87.9146C135.875 92.0678 139.681 97.8827 141.35 104.44H163.75C164.476 101.562 165.622 98.8057 167.15 96.2605L127.45 56.5605C121.071 60.3522 113.526 61.6823 106.235 60.3005C98.9443 58.9187 92.4094 54.9203 87.8602 49.0574C83.3109 43.1946 81.0609 35.8714 81.5332 28.4656C82.0056 21.0599 85.1679 14.0819 90.4252 8.8446C95.6824 3.60726 102.672 0.471508 110.08 0.0272655C117.487 -0.416977 124.802 1.86091 130.647 6.4324C136.493 11.0039 140.467 17.5539 141.821 24.8501C143.175 32.1463 141.816 39.6859 138 46.0505L177.69 85.7505C182.31 82.9877 187.58 81.4995 192.962 81.4375C198.345 81.3755 203.648 82.742 208.33 85.3976C213.012 88.0532 216.907 91.9029 219.616 96.5544C222.326 101.206 223.753 106.492 223.753 111.875C223.753 117.258 222.326 122.545 219.616 127.197C216.907 131.848 213.012 135.698 208.33 138.353C203.648 141.009 198.345 142.375 192.962 142.313C187.58 142.251 182.31 140.763 177.69 138L138 177.7C141.808 184.071 143.155 191.614 141.79 198.91C140.424 206.205 136.44 212.75 130.585 217.313C124.731 221.875 117.412 224.141 110.004 223.683C102.596 223.226 95.6103 220.077 90.3621 214.828C85.1139 209.58 81.9647 202.595 81.5072 195.187C81.0497 187.779 83.3154 180.459 87.878 174.605C92.4405 168.751 98.9853 164.766 106.281 163.401C113.576 162.035 121.119 163.383 127.49 167.19L167.19 127.49C165.664 124.941 164.518 122.182 163.79 119.3H141.39C139.721 125.858 135.915 131.673 130.573 135.826C125.231 139.98 118.657 142.234 111.89 142.234C105.123 142.234 98.5494 139.98 93.2071 135.826C87.8648 131.673 84.0587 125.858 82.39 119.3H60C58.1878 126.495 53.8086 132.78 47.6863 136.971C41.5641 141.163 34.1211 142.972 26.7579 142.059C19.3947 141.146 12.6191 137.574 7.70605 132.014C2.79302 126.454 0.0813599 119.29 0.0813599 111.87C0.0813599 104.451 2.79302 97.2871 7.70605 91.7272C12.6191 86.1673 19.3947 82.5947 26.7579 81.6817C34.1211 80.7686 41.5641 82.5781 47.6863 86.7696C53.8086 90.9611 58.1878 97.2456 60 104.44H82.35ZM100.86 204.32C103.407 206.868 106.759 208.453 110.345 208.806C113.93 209.159 117.527 208.258 120.522 206.256C123.517 204.254 125.725 201.276 126.771 197.828C127.816 194.38 127.633 190.677 126.253 187.349C124.874 184.021 122.383 181.274 119.205 179.577C116.027 177.88 112.359 177.337 108.826 178.042C105.293 178.746 102.113 180.654 99.8291 183.44C97.5451 186.226 96.2979 189.718 96.3 193.32C96.2985 195.364 96.7006 197.388 97.4831 199.275C98.2656 201.163 99.4132 202.877 100.86 204.32ZM204.32 122.88C206.868 120.333 208.453 116.981 208.806 113.396C209.159 109.811 208.258 106.214 206.256 103.219C204.254 100.223 201.275 98.0151 197.827 96.97C194.38 95.9249 190.676 96.1077 187.348 97.4873C184.02 98.8669 181.274 101.358 179.577 104.536C177.879 107.714 177.337 111.382 178.041 114.915C178.746 118.448 180.653 121.627 183.439 123.911C186.226 126.195 189.717 127.443 193.32 127.44C195.364 127.443 197.388 127.042 199.275 126.259C201.163 125.476 202.878 124.328 204.32 122.88ZM122.88 19.4205C120.333 16.8729 116.981 15.2876 113.395 14.9347C109.81 14.5817 106.213 15.483 103.218 17.4849C100.223 19.4868 98.0146 22.4654 96.9696 25.9131C95.9245 29.3608 96.1073 33.0642 97.4869 36.3922C98.8665 39.7202 101.358 42.4668 104.535 44.1639C107.713 45.861 111.381 46.4036 114.914 45.6992C118.447 44.9949 121.627 43.0871 123.911 40.301C126.195 37.515 127.442 34.0231 127.44 30.4205C127.44 28.3772 127.038 26.3539 126.255 24.4664C125.473 22.5788 124.326 20.8642 122.88 19.4205ZM19.42 100.86C16.8725 103.408 15.2872 106.76 14.9342 110.345C14.5813 113.93 15.4826 117.527 17.4844 120.522C19.4863 123.518 22.4649 125.726 25.9127 126.771C29.3604 127.816 33.0638 127.633 36.3918 126.254C39.7198 124.874 42.4664 122.383 44.1635 119.205C45.8606 116.027 46.4032 112.359 45.6988 108.826C44.9944 105.293 43.0866 102.114 40.3006 99.8296C37.5145 97.5455 34.0227 96.2983 30.42 96.3005C26.2938 96.3018 22.337 97.9421 19.42 100.86ZM100.86 100.86C98.3125 103.408 96.7272 106.76 96.3742 110.345C96.0213 113.93 96.9226 117.527 98.9244 120.522C100.926 123.518 103.905 125.726 107.353 126.771C110.8 127.816 114.504 127.633 117.832 126.254C121.16 124.874 123.906 122.383 125.604 119.205C127.301 116.027 127.843 112.359 127.139 108.826C126.434 105.293 124.527 102.114 121.741 99.8296C118.955 97.5455 115.463 96.2983 111.86 96.3005C109.817 96.299 107.793 96.701 105.905 97.4835C104.018 98.2661 102.303 99.4136 100.86 100.86Z\" fill=\"#00AEEF\"/>\n",
       "    </g>\n",
       "    <defs>\n",
       "        <clipPath id=\"clip0_4338_178347\">\n",
       "            <rect width=\"566.93\" height=\"223.75\" fill=\"white\"/>\n",
       "        </clipPath>\n",
       "    </defs>\n",
       "  </svg>\n",
       "</div>\n",
       "\n",
       "        <table class=\"jp-RenderedHTMLCommon\" style=\"border-collapse: collapse;color: var(--jp-ui-font-color1);font-size: var(--jp-ui-font-size1);\">\n",
       "    <tr>\n",
       "        <td style=\"text-align: left\"><b>Python version:</b></td>\n",
       "        <td style=\"text-align: left\"><b>3.12.10</b></td>\n",
       "    </tr>\n",
       "    <tr>\n",
       "        <td style=\"text-align: left\"><b>Ray version:</b></td>\n",
       "        <td style=\"text-align: left\"><b>2.44.1</b></td>\n",
       "    </tr>\n",
       "    <tr>\n",
       "    <td style=\"text-align: left\"><b>Dashboard:</b></td>\n",
       "    <td style=\"text-align: left\"><b><a href=\"http://172.18.0.2:8265\" target=\"_blank\">http://172.18.0.2:8265</a></b></td>\n",
       "</tr>\n",
       "\n",
       "</table>\n",
       "\n",
       "    </div>\n",
       "</div>\n"
      ],
      "text/plain": [
       "RayContext(dashboard_url='172.18.0.2:8265', python_version='3.12.10', ray_version='2.44.1', ray_commit='daca7b2b1a950dc7f731e34e74c76ae383794ffe')"
      ]
     },
     "execution_count": 3,
     "metadata": {},
     "output_type": "execute_result"
    },
    {
     "name": "stderr",
     "output_type": "stream",
     "text": [
      "\u001b[36m(ProxyActor pid=563)\u001b[0m INFO 2025-04-10 05:37:03,219 proxy 172.18.0.2 -- Proxy starting on node e21ad4726b84b916deb8d47a321d5062df24f23a708e9970a9473eaa (HTTP port: 8000).\n",
      "\u001b[36m(ProxyActor pid=563)\u001b[0m INFO 2025-04-10 05:37:03,264 proxy 172.18.0.2 -- Got updated endpoints: {}.\n",
      "\u001b[36m(ServeController pid=566)\u001b[0m INFO 2025-04-10 05:37:33,188 controller 566 -- Deploying new version of Deployment(name='RayApp', app='fastapiappponray') (initial target replicas: 1).\n",
      "\u001b[36m(ProxyActor pid=563)\u001b[0m INFO 2025-04-10 05:37:33,192 proxy 172.18.0.2 -- Got updated endpoints: {Deployment(name='RayApp', app='fastapiappponray'): EndpointInfo(route='/', app_is_cross_language=False)}.\n",
      "\u001b[36m(ProxyActor pid=563)\u001b[0m INFO 2025-04-10 05:37:33,201 proxy 172.18.0.2 -- Started <ray.serve._private.router.SharedRouterLongPollClient object at 0xffff7427bfb0>.\n",
      "\u001b[36m(ServeController pid=566)\u001b[0m INFO 2025-04-10 05:37:33,293 controller 566 -- Adding 1 replica to Deployment(name='RayApp', app='fastapiappponray').\n"
     ]
    },
    {
     "name": "stdout",
     "output_type": "stream",
     "text": [
      "\u001b[36m(ServeReplica:fastapiappponray:RayApp pid=564)\u001b[0m 2025-04-10 05:37:42\n"
     ]
    },
    {
     "name": "stderr",
     "output_type": "stream",
     "text": [
      "\u001b[36m(ServeReplica:fastapiappponray:RayApp pid=564)\u001b[0m INFO 2025-04-10 05:37:42,618 fastapiappponray_RayApp 8y16dmar 403d5582-fcf7-4d91-a46a-a196b2654e24 -- GET /hello 200 4.1ms\n",
      "\u001b[36m(ServeReplica:fastapiappponray:RayApp pid=564)\u001b[0m INFO 2025-04-10 05:37:42,636 fastapiappponray_RayApp 8y16dmar 79464036-d43a-4aed-ab6a-5674922e1269 -- GET / 404 0.9ms\n",
      "\u001b[36m(ServeController pid=566)\u001b[0m INFO 2025-04-10 05:37:50,726 controller 566 -- Deploying new version of Deployment(name='RayAppParamaeterized', app='fastapiappponrayparameterized') (initial target replicas: 2).\n",
      "\u001b[36m(ProxyActor pid=563)\u001b[0m INFO 2025-04-10 05:37:50,730 proxy 172.18.0.2 -- Got updated endpoints: {Deployment(name='RayApp', app='fastapiappponray'): EndpointInfo(route='/', app_is_cross_language=False), Deployment(name='RayAppParamaeterized', app='fastapiappponrayparameterized'): EndpointInfo(route='/parameterized_app', app_is_cross_language=False)}.\n",
      "\u001b[36m(ServeController pid=566)\u001b[0m INFO 2025-04-10 05:37:50,831 controller 566 -- Adding 2 replicas to Deployment(name='RayAppParamaeterized', app='fastapiappponrayparameterized').\n"
     ]
    },
    {
     "name": "stdout",
     "output_type": "stream",
     "text": [
      "\u001b[36m(ServeReplica:fastapiappponrayparameterized:RayAppParamaeterized pid=562)\u001b[0m 2025-04-10 05:37:54\n"
     ]
    },
    {
     "name": "stderr",
     "output_type": "stream",
     "text": [
      "\u001b[36m(ServeReplica:fastapiappponrayparameterized:RayAppParamaeterized pid=562)\u001b[0m INFO 2025-04-10 05:37:54,409 fastapiappponrayparameterized_RayAppParamaeterized j0h4zv4x 30a084e0-71e9-430d-9fef-9a76ab023982 -- GET /parameterized_app/hello 200 4.0ms\n",
      "\u001b[36m(ServeController pid=566)\u001b[0m INFO 2025-04-10 05:38:07,904 controller 566 -- Deploying new version of Deployment(name='RayAppParamaeterizedFail', app='rayappparameterizedfail') (initial target replicas: 6).\n",
      "\u001b[36m(ProxyActor pid=563)\u001b[0m INFO 2025-04-10 05:38:07,908 proxy 172.18.0.2 -- Got updated endpoints: {Deployment(name='RayApp', app='fastapiappponray'): EndpointInfo(route='/', app_is_cross_language=False), Deployment(name='RayAppParamaeterized', app='fastapiappponrayparameterized'): EndpointInfo(route='/parameterized_app', app_is_cross_language=False), Deployment(name='RayAppParamaeterizedFail', app='rayappparameterizedfail'): EndpointInfo(route='/parameterized_app_fail', app_is_cross_language=False)}.\n",
      "\u001b[36m(ServeController pid=566)\u001b[0m INFO 2025-04-10 05:38:08,009 controller 566 -- Adding 6 replicas to Deployment(name='RayAppParamaeterizedFail', app='rayappparameterizedfail').\n",
      "\u001b[36m(ServeReplica:fastapiappponrayparameterized:RayAppParamaeterized pid=561)\u001b[0m INFO 2025-04-10 05:38:16,659 fastapiappponrayparameterized_RayAppParamaeterized az36cnh2 ee470392-6cff-477f-8bdc-d4283f2956c8 -- GET /parameterized_app/hello 200 4.0ms\n"
     ]
    },
    {
     "name": "stdout",
     "output_type": "stream",
     "text": [
      "\u001b[36m(ServeReplica:fastapiappponrayparameterized:RayAppParamaeterized pid=561)\u001b[0m 2025-04-10 05:38:16\n",
      "\u001b[36m(ServeReplica:rayappparameterizedfail:RayAppParamaeterizedFail pid=1101)\u001b[0m 2025-04-10 05:38:24\n"
     ]
    },
    {
     "name": "stderr",
     "output_type": "stream",
     "text": [
      "\u001b[36m(ServeReplica:rayappparameterizedfail:RayAppParamaeterizedFail pid=1101)\u001b[0m INFO 2025-04-10 05:38:24,974 rayappparameterizedfail_RayAppParamaeterizedFail d1lp910t 0c4ad58d-08b2-4e4f-b6c7-81fc0f9e92b5 -- GET /parameterized_app_fail/hello 200 5.8ms\n"
     ]
    },
    {
     "name": "stdout",
     "output_type": "stream",
     "text": [
      "\u001b[36m(autoscaler +5m26s)\u001b[0m Tip: use `ray status` to view detailed cluster status. To disable these messages, set RAY_SCHEDULER_EVENTS=0.\n",
      "\u001b[33m(autoscaler +5m26s)\u001b[0m Warning: The following resource request cannot be scheduled right now: {'CPU': 1.0}. This is likely due to all cluster resources being claimed by actors. Consider creating fewer actors or adding more nodes to this Ray cluster.\n"
     ]
    },
    {
     "name": "stderr",
     "output_type": "stream",
     "text": [
      "\u001b[36m(ServeController pid=566)\u001b[0m WARNING 2025-04-10 05:38:38,059 controller 566 -- Deployment 'RayAppParamaeterizedFail' in application 'rayappparameterizedfail' has 1 replicas that have taken more than 30s to be scheduled. This may be due to waiting for the cluster to auto-scale or for a runtime environment to be installed. Resources required for each replica: {\"CPU\": 1}, total resources available: {}. Use `ray status` for more details.\n",
      "\u001b[36m(ServeController pid=566)\u001b[0m INFO 2025-04-10 05:38:58,036 controller 566 -- Removing 1 replica from Deployment(name='RayApp', app='fastapiappponray').\n",
      "\u001b[36m(ServeController pid=566)\u001b[0m INFO 2025-04-10 05:38:58,037 controller 566 -- Removing 2 replicas from Deployment(name='RayAppParamaeterized', app='fastapiappponrayparameterized').\n",
      "\u001b[36m(ServeController pid=566)\u001b[0m INFO 2025-04-10 05:38:58,037 controller 566 -- Removing 6 replicas from Deployment(name='RayAppParamaeterizedFail', app='rayappparameterizedfail').\n",
      "\u001b[36m(ServeController pid=566)\u001b[0m INFO 2025-04-10 05:39:00,070 controller 566 -- Replica(id='8y16dmar', deployment='RayApp', app='fastapiappponray') is stopped.\n",
      "\u001b[36m(ServeController pid=566)\u001b[0m INFO 2025-04-10 05:39:00,071 controller 566 -- Replica(id='az36cnh2', deployment='RayAppParamaeterized', app='fastapiappponrayparameterized') is stopped.\n",
      "\u001b[36m(ServeController pid=566)\u001b[0m INFO 2025-04-10 05:39:00,071 controller 566 -- Replica(id='j0h4zv4x', deployment='RayAppParamaeterized', app='fastapiappponrayparameterized') is stopped.\n",
      "\u001b[36m(ServeController pid=566)\u001b[0m INFO 2025-04-10 05:39:00,074 controller 566 -- Replica(id='mrq15tln', deployment='RayAppParamaeterizedFail', app='rayappparameterizedfail') is stopped.\n",
      "\u001b[36m(ServeController pid=566)\u001b[0m INFO 2025-04-10 05:39:00,075 controller 566 -- Replica(id='8a9azolm', deployment='RayAppParamaeterizedFail', app='rayappparameterizedfail') is stopped.\n",
      "\u001b[36m(ServeController pid=566)\u001b[0m INFO 2025-04-10 05:39:00,076 controller 566 -- Replica(id='bhb3v6y2', deployment='RayAppParamaeterizedFail', app='rayappparameterizedfail') is stopped.\n",
      "\u001b[36m(ServeController pid=566)\u001b[0m INFO 2025-04-10 05:39:00,077 controller 566 -- Replica(id='wzkp66x9', deployment='RayAppParamaeterizedFail', app='rayappparameterizedfail') is stopped.\n",
      "\u001b[36m(ServeController pid=566)\u001b[0m INFO 2025-04-10 05:39:00,080 controller 566 -- Replica(id='d1lp910t', deployment='RayAppParamaeterizedFail', app='rayappparameterizedfail') is stopped.\n",
      "\u001b[36m(ServeController pid=566)\u001b[0m INFO 2025-04-10 05:39:00,622 controller 566 -- Replica(id='ns5idtc2', deployment='RayAppParamaeterizedFail', app='rayappparameterizedfail') is stopped.\n",
      "\u001b[36m(ServeReplica:rayappparameterizedfail:RayAppParamaeterizedFail pid=1224)\u001b[0m INFO 2025-04-10 05:39:00,582 rayappparameterizedfail_RayAppParamaeterizedFail ns5idtc2 -- This replica has not yet started running user code. Skipping __del__.\n"
     ]
    }
   ],
   "source": [
    "import ray\n",
    "ray.init(num_cpus=8,dashboard_host=\"0.0.0.0\")"
   ]
  },
  {
   "cell_type": "markdown",
   "id": "8709256b-3ec6-473e-b400-5bc5ca22171e",
   "metadata": {},
   "source": [
    "## 3.2 Convert the FastAPI app to a RayDeployment"
   ]
  },
  {
   "cell_type": "code",
   "execution_count": 4,
   "id": "6dc32136-4a9d-4528-b0ef-b7d5138b7db6",
   "metadata": {},
   "outputs": [],
   "source": [
    "#Need to convert FastAPI app to a ray deployment actor\n",
    "\n",
    "from ray import serve\n",
    "\n",
    "@serve.deployment\n",
    "@serve.ingress(app)\n",
    "class RayApp:\n",
    "    pass\n",
    "\n",
    "\n",
    "rayapp = RayApp.bind()"
   ]
  },
  {
   "cell_type": "markdown",
   "id": "53e0052a-f6f2-4e83-94d6-76b026732d57",
   "metadata": {},
   "source": [
    "## 3.3 Another ray app with parmeterized information"
   ]
  },
  {
   "cell_type": "code",
   "execution_count": 5,
   "id": "84e88803-3a97-4603-acc8-47d71799bef9",
   "metadata": {},
   "outputs": [],
   "source": [
    "from ray import serve\n",
    "\n",
    "\n",
    "@serve.deployment(num_replicas=2, ray_actor_options={\"num_cpus\": 1})\n",
    "@serve.ingress(app)\n",
    "class RayAppParamaeterized:\n",
    "    pass\n",
    "\n",
    "\n",
    "rayappparameterized = RayAppParamaeterized.bind()"
   ]
  },
  {
   "cell_type": "markdown",
   "id": "30d25499-b026-4496-b9f0-6bbaec031c10",
   "metadata": {},
   "source": [
    "## 3.4 Another ray app with parmeterized information requesting more resource than avaialbale"
   ]
  },
  {
   "cell_type": "code",
   "execution_count": 6,
   "id": "293b1607-149a-46e4-9a9a-e368001bf688",
   "metadata": {},
   "outputs": [],
   "source": [
    "#Below is a NegativExample\n",
    "from ray import serve\n",
    "\n",
    "@serve.deployment(num_replicas=6, ray_actor_options={\"num_cpus\": 1})\n",
    "@serve.ingress(app)\n",
    "class RayAppParamaeterizedFail:\n",
    "    pass\n",
    "\n",
    "\n",
    "rayappparameterizedfail = RayAppParamaeterizedFail.bind()"
   ]
  },
  {
   "cell_type": "markdown",
   "id": "77041e43-588c-4b86-878c-1d2021739a59",
   "metadata": {},
   "source": [
    "## 3.5 Deploy on a  ray serve cluster"
   ]
  },
  {
   "cell_type": "markdown",
   "id": "e2c90ca9-de8a-40a3-a1ca-f6da820ab00a",
   "metadata": {},
   "source": [
    "If you are running this inside a container, you should now see at http://localhost:8265"
   ]
  },
  {
   "cell_type": "markdown",
   "id": "42b46906-a34f-43c0-b2bc-bd68a1e3a525",
   "metadata": {},
   "source": [
    "### 3.5.1 Start Serve Instance on Ray Cluster"
   ]
  },
  {
   "cell_type": "code",
   "execution_count": 7,
   "id": "4621dd6e-29f5-4c8a-aad4-c34e6c305d25",
   "metadata": {},
   "outputs": [
    {
     "name": "stderr",
     "output_type": "stream",
     "text": [
      "INFO 2025-04-10 05:37:03,266 serve 323 -- Started Serve in namespace \"serve\".\n"
     ]
    }
   ],
   "source": [
    "serve.start(http_options={\"host\":\"0.0.0.0\"})"
   ]
  },
  {
   "cell_type": "markdown",
   "id": "5a6ca51b-aa56-45a9-95f5-67fea814bb6f",
   "metadata": {},
   "source": [
    "### 3.5.2 Deploy above Ray Wrapped Fast API apps on Ray Serve"
   ]
  },
  {
   "cell_type": "code",
   "execution_count": 8,
   "id": "fae76119-3d76-4cc6-9964-62a351e54786",
   "metadata": {},
   "outputs": [
    {
     "name": "stderr",
     "output_type": "stream",
     "text": [
      "INFO 2025-04-10 05:37:33,159 serve 323 -- Connecting to existing Serve app in namespace \"serve\". New http options will not be applied.\n",
      "WARNING 2025-04-10 05:37:33,160 serve 323 -- The new client HTTP config differs from the existing one in the following fields: ['host', 'location']. The new HTTP config is ignored.\n",
      "INFO 2025-04-10 05:37:34,278 serve 323 -- Application 'fastapiappponray' is ready at http://0.0.0.0:8000/.\n"
     ]
    },
    {
     "name": "stdout",
     "output_type": "stream",
     "text": [
      "Served app should be visible at http://localhost:8000/hello\n"
     ]
    }
   ],
   "source": [
    "serve.run(rayapp, name=\"fastapiappponray\")\n",
    "print(\"Served app should be visible at http://localhost:8000/hello\")"
   ]
  },
  {
   "cell_type": "code",
   "execution_count": 9,
   "id": "733edd07-8f4f-46eb-886f-8541117f2b81",
   "metadata": {},
   "outputs": [
    {
     "name": "stderr",
     "output_type": "stream",
     "text": [
      "INFO 2025-04-10 05:37:50,711 serve 323 -- Connecting to existing Serve app in namespace \"serve\". New http options will not be applied.\n",
      "WARNING 2025-04-10 05:37:50,713 serve 323 -- The new client HTTP config differs from the existing one in the following fields: ['host', 'location']. The new HTTP config is ignored.\n",
      "INFO 2025-04-10 05:37:51,832 serve 323 -- Application 'fastapiappponrayparameterized' is ready at http://0.0.0.0:8000/parameterized_app.\n"
     ]
    },
    {
     "name": "stdout",
     "output_type": "stream",
     "text": [
      "Served app should be visible at http://localhost:8000/parameterized_app/hello\n"
     ]
    }
   ],
   "source": [
    "serve.run(rayappparameterized, \n",
    "          name=\"fastapiappponrayparameterized\", \n",
    "          route_prefix=\"/parameterized_app\")\n",
    "print(\"Served app should be visible at http://localhost:8000/parameterized_app/hello\")"
   ]
  },
  {
   "cell_type": "code",
   "execution_count": null,
   "id": "1eb4eb77-18f3-492b-84c7-79e508433a5e",
   "metadata": {},
   "outputs": [],
   "source": [
    "serve.run(rayappparameterizedfail, \n",
    "          name=\"rayappparameterizedfail\", \n",
    "          route_prefix=\"/parameterized_app_fail\")\n",
    "print(\"Served app should be visible at http://localhost:8000/parameterized_app_fail/hello, however all replicas would not come up\")"
   ]
  },
  {
   "cell_type": "code",
   "execution_count": 12,
   "id": "2265a136-2bad-4026-840d-2adfedd80e9d",
   "metadata": {},
   "outputs": [],
   "source": [
    "serve.shutdown()"
   ]
  },
  {
   "cell_type": "markdown",
   "id": "39286e1b-fd01-405a-b7b3-de28bf843d41",
   "metadata": {},
   "source": [
    "### 3.5.3  ShutDown Ray Cluster"
   ]
  },
  {
   "cell_type": "code",
   "execution_count": 13,
   "id": "04e2ace4-be21-4295-a7d6-2435f04c5efc",
   "metadata": {},
   "outputs": [],
   "source": [
    "ray.shutdown()"
   ]
  },
  {
   "cell_type": "code",
   "execution_count": null,
   "id": "5a0a30aa-3819-4bcc-8b1b-ed5b37abbf55",
   "metadata": {},
   "outputs": [],
   "source": [
    "# %%bash\n",
    "# be careful with this\n",
    "# rm -rf ray_jup_env"
   ]
  },
  {
   "cell_type": "code",
   "execution_count": null,
   "id": "12653850-f9a6-48ca-92d0-6b72a41ba896",
   "metadata": {},
   "outputs": [],
   "source": []
  }
 ],
 "metadata": {
  "kernelspec": {
   "display_name": "Python 3 (ipykernel)",
   "language": "python",
   "name": "python3"
  },
  "language_info": {
   "codemirror_mode": {
    "name": "ipython",
    "version": 3
   },
   "file_extension": ".py",
   "mimetype": "text/x-python",
   "name": "python",
   "nbconvert_exporter": "python",
   "pygments_lexer": "ipython3",
   "version": "3.12.10"
  }
 },
 "nbformat": 4,
 "nbformat_minor": 5
}
