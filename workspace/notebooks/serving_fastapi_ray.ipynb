{
 "cells": [
  {
   "cell_type": "markdown",
   "id": "7e1e4008-8af0-487c-b71a-c5fd400618e0",
   "metadata": {},
   "source": [
    "# 1. Set up environment"
   ]
  },
  {
   "cell_type": "markdown",
   "id": "65a30a29-febb-49ea-b024-e9d75ff50de8",
   "metadata": {},
   "source": [
    "## 1.1 Install a Virtual env with all dependencies"
   ]
  },
  {
   "cell_type": "markdown",
   "id": "92b45177-b6d8-4103-91ff-82bf44b5e824",
   "metadata": {},
   "source": [
    "### 1.1.1 UV Based Environment Creation\n",
    "- Running below cell  requires uv to be installed on your machine. \n",
    "- You can install from https://docs.astral.sh/uv/pip/environments/\n",
    "- If you dont want UV please use pip based install"
   ]
  },
  {
   "cell_type": "code",
   "execution_count": null,
   "id": "16f8d064-c3fa-4696-9dcd-c04d781bdc23",
   "metadata": {},
   "outputs": [],
   "source": [
    "%%bash\n",
    "python -m pip install uv\n",
    "uv venv ray_jup_env\n",
    "source ray_jup_env/bin/activate\n",
    "\n",
    "uv pip install ray[serve] #this is how you install ray_serve python package\n",
    "uv pip install ipykernel nbconvert ipywidgets #these are required to attach created environment in notebook\n",
    "python -m ipykernel install --user --name=ray_jup_env\n"
   ]
  },
  {
   "cell_type": "markdown",
   "id": "a1c0f9ff-8b56-46f2-94dc-3edf255fb5cf",
   "metadata": {},
   "source": [
    "### 1.1.2 PIP Based Environment Creation\n",
    " - Uncomment below and run if you do want to not use above uv base install"
   ]
  },
  {
   "cell_type": "code",
   "execution_count": null,
   "id": "344f947a-7fe6-4986-ade3-63290946b752",
   "metadata": {},
   "outputs": [],
   "source": [
    "# %%bash\n",
    "# python -m pip install --user virtualenv\n",
    "# python -m virtualenv ray_jup_env\n",
    "# source ray_jup_env/bin/activate\n",
    "# python -m pip install ray[serve] #this is how you install ray_serve python package\n",
    "# python -m pip install nest-asyncio #this is required to run a FastAPI app in non-blocking mode from a jupyter notebook\n",
    "# python -m pip install ipykernel nbconvert ipywidgets #these are required to attach created environment in notebook\n",
    "# python -m ipykernel install --user --name=ray_jup_env"
   ]
  },
  {
   "cell_type": "markdown",
   "id": "4c8052ff-78dc-4292-a794-da78d27b9c22",
   "metadata": {
    "jp-MarkdownHeadingCollapsed": true
   },
   "source": [
    "## 1.2 Activate the Kernel\n",
    "- refresh the browser\n",
    "- activate the _ray_jup_env_ kernel"
   ]
  },
  {
   "cell_type": "markdown",
   "id": "648a8e88-56d0-4321-91d8-bed483c49771",
   "metadata": {},
   "source": [
    "# 2. Simple FastAPI Endpoint"
   ]
  },
  {
   "cell_type": "markdown",
   "id": "d8336b2a-48de-46d9-9df7-193482a1be0e",
   "metadata": {},
   "source": [
    "## 2.1 Create a simple FastAPI endpoint"
   ]
  },
  {
   "cell_type": "code",
   "execution_count": null,
   "id": "27489bdd-5936-4694-8dd9-76e7587f6f33",
   "metadata": {},
   "outputs": [],
   "source": [
    "from fastapi import FastAPI\n",
    "import os\n",
    "\n",
    "app = FastAPI()\n",
    "\n",
    "\n",
    "@app.get(\"/hello\")\n",
    "def hello():\n",
    "    return {\"message\": \"Hello, World\"}"
   ]
  },
  {
   "cell_type": "markdown",
   "id": "6ede57db-5959-4ee1-9b70-02f74951d2f0",
   "metadata": {},
   "source": [
    "## 2.2 Serve the Fast API end point\n",
    "  - I am using an asyncio loop to serve the app in an async way from notebook\n",
    "  - if you are running this inside a container, you should now see at http://localhost:8001/docs"
   ]
  },
  {
   "cell_type": "code",
   "execution_count": null,
   "id": "7fa80f74-0e2c-4d8e-ac06-67a9de46bd06",
   "metadata": {},
   "outputs": [],
   "source": [
    "import asyncio\n",
    "import uvicorn\n",
    "\n",
    "if __name__ == \"__main__\":\n",
    "    config = uvicorn.Config(app, host=\"0.0.0.0\", port=8002)\n",
    "    server = uvicorn.Server(config)\n",
    "    loop = asyncio.get_running_loop()\n",
    "    loop.create_task(server.serve())\n",
    "\n",
    "print(\"If you are running this inside a container, you should now see at http://localhost:8002/hello\")"
   ]
  },
  {
   "cell_type": "markdown",
   "id": "182d3fde-4cba-4bc3-bea2-ab6f4a1c3783",
   "metadata": {},
   "source": []
  },
  {
   "cell_type": "markdown",
   "id": "37b2bee0-4d1e-400d-8f97-a094a8f5f24e",
   "metadata": {},
   "source": [
    "# 3. Deploy Fast API app Using Ray Serve"
   ]
  },
  {
   "cell_type": "markdown",
   "id": "06ccd17f-abe6-4304-8944-b614b290d47f",
   "metadata": {},
   "source": [
    "## 3.1 Start a Ray Cluster"
   ]
  },
  {
   "cell_type": "code",
   "execution_count": null,
   "id": "8ac83d22-bbaf-4721-8720-4b4707d200be",
   "metadata": {},
   "outputs": [],
   "source": [
    "import ray\n",
    "ray.init(num_cpus=8,dashboard_host=\"0.0.0.0\")"
   ]
  },
  {
   "cell_type": "markdown",
   "id": "8709256b-3ec6-473e-b400-5bc5ca22171e",
   "metadata": {},
   "source": [
    "## 3.2 Convert the FastAPI app to a RayDeployment"
   ]
  },
  {
   "cell_type": "code",
   "execution_count": null,
   "id": "6dc32136-4a9d-4528-b0ef-b7d5138b7db6",
   "metadata": {},
   "outputs": [],
   "source": [
    "#Need to convert FastAPI app to a ray deployment actor\n",
    "\n",
    "from ray import serve\n",
    "\n",
    "@serve.deployment\n",
    "@serve.ingress(app)\n",
    "class RayApp:\n",
    "    pass\n",
    "\n",
    "\n",
    "rayapp = RayApp.bind()"
   ]
  },
  {
   "cell_type": "markdown",
   "id": "53e0052a-f6f2-4e83-94d6-76b026732d57",
   "metadata": {},
   "source": [
    "## 3.3 Another ray app with parmeterized information"
   ]
  },
  {
   "cell_type": "code",
   "execution_count": null,
   "id": "84e88803-3a97-4603-acc8-47d71799bef9",
   "metadata": {},
   "outputs": [],
   "source": [
    "from ray import serve\n",
    "\n",
    "\n",
    "@serve.deployment(num_replicas=2, ray_actor_options={\"num_cpus\": 1})\n",
    "@serve.ingress(app)\n",
    "class RayAppParamaeterized:\n",
    "    pass\n",
    "\n",
    "\n",
    "rayappparameterized = RayAppParamaeterized.bind()"
   ]
  },
  {
   "cell_type": "markdown",
   "id": "30d25499-b026-4496-b9f0-6bbaec031c10",
   "metadata": {},
   "source": [
    "## 3.4 Another ray app with parmeterized information requesting more resource than avaialbale"
   ]
  },
  {
   "cell_type": "code",
   "execution_count": null,
   "id": "293b1607-149a-46e4-9a9a-e368001bf688",
   "metadata": {},
   "outputs": [],
   "source": [
    "#Below is a NegativExample\n",
    "from ray import serve\n",
    "\n",
    "@serve.deployment(num_replicas=6, ray_actor_options={\"num_cpus\": 1})\n",
    "@serve.ingress(app)\n",
    "class RayAppParamaeterizedFail:\n",
    "    pass\n",
    "\n",
    "\n",
    "rayappparameterizedfail = RayAppParamaeterizedFail.bind()"
   ]
  },
  {
   "cell_type": "markdown",
   "id": "77041e43-588c-4b86-878c-1d2021739a59",
   "metadata": {},
   "source": [
    "## 3.5 Deploy on a  ray serve cluster"
   ]
  },
  {
   "cell_type": "markdown",
   "id": "e2c90ca9-de8a-40a3-a1ca-f6da820ab00a",
   "metadata": {},
   "source": [
    "If you are running this inside a container, you should now see at http://localhost:8265"
   ]
  },
  {
   "cell_type": "markdown",
   "id": "42b46906-a34f-43c0-b2bc-bd68a1e3a525",
   "metadata": {},
   "source": [
    "### 3.5.1 Start Serve Instance on Ray Cluster"
   ]
  },
  {
   "cell_type": "code",
   "execution_count": null,
   "id": "4621dd6e-29f5-4c8a-aad4-c34e6c305d25",
   "metadata": {},
   "outputs": [],
   "source": [
    "serve.start(http_options={\"host\":\"0.0.0.0\"})"
   ]
  },
  {
   "cell_type": "markdown",
   "id": "5a6ca51b-aa56-45a9-95f5-67fea814bb6f",
   "metadata": {},
   "source": [
    "### 3.5.2 Deploy above Ray Wrapped Fast API apps on Ray Serve"
   ]
  },
  {
   "cell_type": "code",
   "execution_count": null,
   "id": "fae76119-3d76-4cc6-9964-62a351e54786",
   "metadata": {},
   "outputs": [],
   "source": [
    "serve.run(rayapp, name=\"fastapiappponray\")\n",
    "print(\"Served app should be visible at http://localhost:8000/hello\")"
   ]
  },
  {
   "cell_type": "code",
   "execution_count": null,
   "id": "733edd07-8f4f-46eb-886f-8541117f2b81",
   "metadata": {},
   "outputs": [],
   "source": [
    "serve.run(rayappparameterized, \n",
    "          name=\"fastapiappponrayparameterized\", \n",
    "          route_prefix=\"/parameterized_app\")\n",
    "print(\"Served app should be visible at http://localhost:8000/parameterized_app/hello\")"
   ]
  },
  {
   "cell_type": "code",
   "execution_count": null,
   "id": "1eb4eb77-18f3-492b-84c7-79e508433a5e",
   "metadata": {},
   "outputs": [],
   "source": [
    "serve.run(rayappparameterizedfail, \n",
    "          name=\"rayappparameterizedfail\", \n",
    "          # route_prefix=\"/parameterized_app_fail\")\n",
    "print(\"Served app should be visible at http://localhost:8000/parameterized_app_fail/hello, however all replicas would not come up\")"
   ]
  },
  {
   "cell_type": "code",
   "execution_count": null,
   "id": "2265a136-2bad-4026-840d-2adfedd80e9d",
   "metadata": {},
   "outputs": [],
   "source": [
    "serve.shutdown()"
   ]
  },
  {
   "cell_type": "markdown",
   "id": "39286e1b-fd01-405a-b7b3-de28bf843d41",
   "metadata": {},
   "source": [
    "### 3.5.3  ShutDown Ray Cluster"
   ]
  },
  {
   "cell_type": "code",
   "execution_count": null,
   "id": "04e2ace4-be21-4295-a7d6-2435f04c5efc",
   "metadata": {},
   "outputs": [],
   "source": [
    "ray.shutdown()"
   ]
  },
  {
   "cell_type": "code",
   "execution_count": null,
   "id": "5a0a30aa-3819-4bcc-8b1b-ed5b37abbf55",
   "metadata": {},
   "outputs": [],
   "source": [
    "# %%bash\n",
    "# be carefu with this\n",
    "# rm -rf ray_jup_env"
   ]
  },
  {
   "cell_type": "code",
   "execution_count": null,
   "id": "12653850-f9a6-48ca-92d0-6b72a41ba896",
   "metadata": {},
   "outputs": [],
   "source": []
  }
 ],
 "metadata": {
  "kernelspec": {
   "display_name": "Python 3 (ipykernel)",
   "language": "python",
   "name": "python3"
  },
  "language_info": {
   "codemirror_mode": {
    "name": "ipython",
    "version": 3
   },
   "file_extension": ".py",
   "mimetype": "text/x-python",
   "name": "python",
   "nbconvert_exporter": "python",
   "pygments_lexer": "ipython3",
   "version": "3.12.10"
  }
 },
 "nbformat": 4,
 "nbformat_minor": 5
}
